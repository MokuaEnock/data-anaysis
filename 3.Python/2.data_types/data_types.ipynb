{
 "cells": [
  {
   "attachments": {},
   "cell_type": "markdown",
   "metadata": {},
   "source": [
    "# Python Data types\n",
    "\n",
    "In Python, data types are used to represent the type of data that a variable can hold, such as numbers, characters, and strings. Understanding data types is an important part of programming, as it allows you to choose the right data type for the task at hand and to use it effectively in your code.\n",
    "\n",
    "Here is a list of some of pythons data types,\n",
    "- Integers\n",
    "- Floating-point numbers\n",
    "- Strings\n",
    "- Booleans\n",
    "- Lists\n",
    "- Tuples\n",
    "- Sets\n",
    "- Dictionaries\n",
    "\n",
    "Each data type has its own characteristics and is used in different scenarios. For example, integers are used to represent whole numbers, while strings are used to represent text data. Dictionaries are often used to store data in a structured manner, while lists are used to store a collection of items.\n",
    "\n",
    "To check the data type of a variable in Python, you can use the `type()` function. This function takes a variable as an argument and returns the data type of the variable.\n",
    "\n",
    "## 1. **Integers**\n",
    "\n",
    "Integers are whole numbers that can be positive, negative, or zero. They are represented using the `int` data type in Python. You can use integers to represent whole numbers, such as the number of students in a class or the number of items in an inventory. In Python, integers have no limit on their size, so you can use them to represent large numbers as well. \n"
   ]
  },
  {
   "cell_type": "code",
   "execution_count": 3,
   "metadata": {},
   "outputs": [
    {
     "name": "stdout",
     "output_type": "stream",
     "text": [
      "<class 'int'>\n",
      "<class 'int'>\n"
     ]
    }
   ],
   "source": [
    "#x is also an integer\n",
    "x = 10\n",
    "type(x)\n",
    "print(type(x)) #output: <class 'int'>\n",
    "\n",
    "#y is also an integer\n",
    "y = -5\n",
    "print(type(y)) #output: <class 'int'>"
   ]
  },
  {
   "cell_type": "markdown",
   "metadata": {},
   "source": []
  }
 ],
 "metadata": {
  "kernelspec": {
   "display_name": "Python 3",
   "language": "python",
   "name": "python3"
  },
  "language_info": {
   "codemirror_mode": {
    "name": "ipython",
    "version": 3
   },
   "file_extension": ".py",
   "mimetype": "text/x-python",
   "name": "python",
   "nbconvert_exporter": "python",
   "pygments_lexer": "ipython3",
   "version": "3.8.10"
  }
 },
 "nbformat": 4,
 "nbformat_minor": 4
}
