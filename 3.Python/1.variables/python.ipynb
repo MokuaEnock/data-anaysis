{
 "cells": [
  {
   "attachments": {},
   "cell_type": "markdown",
   "metadata": {},
   "source": [
    "# Getting your hands dirty\n",
    "\n",
    "Ready or not I believe you are ready to get your hands dirty with code before we loo at the code below try predicting its output when it runs.\n",
    "\n",
    ">**Note** - To run the code below press (Shift + Enter)\n",
    "\n",
    "You can play around with the grade to see what it outputs."
   ]
  },
  {
   "cell_type": "code",
   "execution_count": null,
   "metadata": {},
   "outputs": [],
   "source": [
    "#assign grade\n",
    "grade = 75\n",
    "\n",
    "#conditional to evaluate grade\n",
    "if grade > 50:\n",
    "    print(\"Congratulations, you have passed the class!\")\n",
    "else:\n",
    "    print(\"You will have to repeat the class!\")"
   ]
  }
 ],
 "metadata": {
  "language_info": {
   "name": "python"
  },
  "orig_nbformat": 4
 },
 "nbformat": 4,
 "nbformat_minor": 2
}
